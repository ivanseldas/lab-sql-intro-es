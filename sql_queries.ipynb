{
 "cells": [
  {
   "cell_type": "code",
   "execution_count": 2,
   "metadata": {},
   "outputs": [
    {
     "data": {
      "text/plain": [
       "\"\\n-- Create the database\\nCREATE DATABASE IF NOT EXISTS lab_ironhack;\\n\\n-- Use the database \\nUSE DATABASE lab_ironhack;\\n\\n-- Create a new schema\\nCREATE SCHEMA IF NOT EXISTS lab_sql;\\n\\nUSE SCHEMA lab_sql;\\n\\n-- Create a stage\\nCREATE OR REPLACE STAGE my_stage;\\n\\n-- 1. Identify the total of complaints based on the type of complaint\\nSELECT COMPLAINT_TYPE, COUNT(*) AS TOTAL\\nFROM LAB_13_311_SERVICES_REQUESTS\\nGROUP BY COMPLAINT_TYPE\\nORDER BY TOTAL DESC LIMIT 5;\\n\\n-- 2. Analyse complaints per district\\nSELECT INCIDENT_ZIP, COUNT(*) AS TOTAL\\nFROM LAB_13_311_SERVICES_REQUESTS\\nGROUP BY INCIDENT_ZIP\\nORDER BY TOTAL DESC;\\n\\n-- 3. Filter high volume type of complaints\\nSELECT COMPLAINT_TYPE, COUNT(*) AS TOTAL\\nFROM LAB_13_311_SERVICES_REQUESTS\\nGROUP BY COMPLAINT_TYPE\\nHAVING TOTAL > 1000;\\n\\n-- 4. Compare districts for a specific complaint\\nSELECT INCIDENT_ADDRESS, COUNT(*) AS TOTAL\\nFROM LAB_13_311_SERVICES_REQUESTS\\nWHERE COMPLAINT_TYPE = 'Street Condition' AND INCIDENT_ADDRESS IS NOT NULL\\nGROUP BY INCIDENT_ADDRESS\\nORDER BY TOTAL DESC;\\n\\n\""
      ]
     },
     "execution_count": 2,
     "metadata": {},
     "output_type": "execute_result"
    }
   ],
   "source": [
    "\"\"\"\n",
    "-- Create the database\n",
    "CREATE DATABASE IF NOT EXISTS lab_ironhack;\n",
    "\n",
    "-- Use the database \n",
    "USE DATABASE lab_ironhack;\n",
    "\n",
    "-- Create a new schema\n",
    "CREATE SCHEMA IF NOT EXISTS lab_sql;\n",
    "\n",
    "USE SCHEMA lab_sql;\n",
    "\n",
    "-- Create a stage\n",
    "CREATE OR REPLACE STAGE my_stage;\n",
    "\n",
    "-- 1. Identify the total of complaints based on the type of complaint\n",
    "SELECT COMPLAINT_TYPE, COUNT(*) AS TOTAL\n",
    "FROM LAB_13_311_SERVICES_REQUESTS\n",
    "GROUP BY COMPLAINT_TYPE\n",
    "ORDER BY TOTAL DESC LIMIT 5;\n",
    "\n",
    "-- 2. Analyse complaints per district\n",
    "SELECT INCIDENT_ZIP, COUNT(*) AS TOTAL\n",
    "FROM LAB_13_311_SERVICES_REQUESTS\n",
    "GROUP BY INCIDENT_ZIP\n",
    "ORDER BY TOTAL DESC;\n",
    "\n",
    "-- 3. Filter high volume type of complaints\n",
    "SELECT COMPLAINT_TYPE, COUNT(*) AS TOTAL\n",
    "FROM LAB_13_311_SERVICES_REQUESTS\n",
    "GROUP BY COMPLAINT_TYPE\n",
    "HAVING TOTAL > 1000;\n",
    "\n",
    "-- 4. Compare districts for a specific complaint\n",
    "SELECT INCIDENT_ADDRESS, COUNT(*) AS TOTAL\n",
    "FROM LAB_13_311_SERVICES_REQUESTS\n",
    "WHERE COMPLAINT_TYPE = 'Street Condition' AND INCIDENT_ADDRESS IS NOT NULL\n",
    "GROUP BY INCIDENT_ADDRESS\n",
    "ORDER BY TOTAL DESC;\n",
    "\n",
    "\"\"\""
   ]
  }
 ],
 "metadata": {
  "kernelspec": {
   "display_name": "py39_kaggle",
   "language": "python",
   "name": "python3"
  },
  "language_info": {
   "codemirror_mode": {
    "name": "ipython",
    "version": 3
   },
   "file_extension": ".py",
   "mimetype": "text/x-python",
   "name": "python",
   "nbconvert_exporter": "python",
   "pygments_lexer": "ipython3",
   "version": "3.9.18"
  }
 },
 "nbformat": 4,
 "nbformat_minor": 2
}
